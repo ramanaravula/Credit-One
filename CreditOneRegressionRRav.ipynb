{
 "cells": [
  {
   "cell_type": "code",
   "execution_count": 1,
   "metadata": {},
   "outputs": [],
   "source": [
    "#imports\n",
    "#numpy,pandas,scipy, math, matplotlib\n",
    "import numpy as np\n",
    "import pandas as pd\n",
    "import scipy\n",
    "from math import sqrt\n",
    "import matplotlib.pyplot as plt\n",
    "\n",
    "#estimators\n",
    "from sklearn.ensemble import RandomForestRegressor\n",
    "from sklearn.linear_model import LinearRegression\n",
    "from sklearn.svm import SVR\n",
    "from sklearn import linear_model\n",
    "\n",
    "#model metrics\n",
    "from sklearn.metrics import mean_squared_error\n",
    "from sklearn.metrics import r2_score\n",
    "from sklearn.model_selection import cross_val_score\n",
    "from sklearn.metrics import accuracy_score, precision_score, confusion_matrix    #from scikit learn RandomizedSearchCV & GridSearchCV help files\n",
    "from sklearn.model_selection import GridSearchCV, RandomizedSearchCV    #from scikit learn RandomizedSearchCV & GridSearchCV help files\n",
    "\n",
    "#cross validation\n",
    "from sklearn.model_selection import train_test_split "
   ]
  },
  {
   "cell_type": "markdown",
   "metadata": {},
   "source": [
    "https://scikit-learn.org/stable/model_selection.html"
   ]
  },
  {
   "cell_type": "code",
   "execution_count": 2,
   "metadata": {},
   "outputs": [
    {
     "data": {
      "text/html": [
       "<div>\n",
       "<style scoped>\n",
       "    .dataframe tbody tr th:only-of-type {\n",
       "        vertical-align: middle;\n",
       "    }\n",
       "\n",
       "    .dataframe tbody tr th {\n",
       "        vertical-align: top;\n",
       "    }\n",
       "\n",
       "    .dataframe thead th {\n",
       "        text-align: right;\n",
       "    }\n",
       "</style>\n",
       "<table border=\"1\" class=\"dataframe\">\n",
       "  <thead>\n",
       "    <tr style=\"text-align: right;\">\n",
       "      <th></th>\n",
       "      <th>LIMIT_BAL</th>\n",
       "      <th>SEX</th>\n",
       "      <th>MARRIAGE</th>\n",
       "      <th>AGE</th>\n",
       "      <th>PAY_0</th>\n",
       "      <th>PAY_2</th>\n",
       "      <th>PAY_3</th>\n",
       "      <th>PAY_4</th>\n",
       "      <th>PAY_5</th>\n",
       "      <th>PAY_6</th>\n",
       "      <th>...</th>\n",
       "      <th>PAY_AMT2</th>\n",
       "      <th>PAY_AMT3</th>\n",
       "      <th>PAY_AMT4</th>\n",
       "      <th>PAY_AMT5</th>\n",
       "      <th>PAY_AMT6</th>\n",
       "      <th>default</th>\n",
       "      <th>EDUCATION_graduate school</th>\n",
       "      <th>EDUCATION_high school</th>\n",
       "      <th>EDUCATION_other</th>\n",
       "      <th>EDUCATION_university</th>\n",
       "    </tr>\n",
       "  </thead>\n",
       "  <tbody>\n",
       "    <tr>\n",
       "      <th>0</th>\n",
       "      <td>20000</td>\n",
       "      <td>0</td>\n",
       "      <td>1</td>\n",
       "      <td>24</td>\n",
       "      <td>2</td>\n",
       "      <td>2</td>\n",
       "      <td>0</td>\n",
       "      <td>0</td>\n",
       "      <td>0</td>\n",
       "      <td>0</td>\n",
       "      <td>...</td>\n",
       "      <td>689</td>\n",
       "      <td>0</td>\n",
       "      <td>0</td>\n",
       "      <td>0</td>\n",
       "      <td>0</td>\n",
       "      <td>0</td>\n",
       "      <td>0</td>\n",
       "      <td>0</td>\n",
       "      <td>0</td>\n",
       "      <td>1</td>\n",
       "    </tr>\n",
       "    <tr>\n",
       "      <th>1</th>\n",
       "      <td>120000</td>\n",
       "      <td>0</td>\n",
       "      <td>2</td>\n",
       "      <td>26</td>\n",
       "      <td>0</td>\n",
       "      <td>2</td>\n",
       "      <td>0</td>\n",
       "      <td>0</td>\n",
       "      <td>0</td>\n",
       "      <td>2</td>\n",
       "      <td>...</td>\n",
       "      <td>1000</td>\n",
       "      <td>1000</td>\n",
       "      <td>1000</td>\n",
       "      <td>0</td>\n",
       "      <td>2000</td>\n",
       "      <td>0</td>\n",
       "      <td>0</td>\n",
       "      <td>0</td>\n",
       "      <td>0</td>\n",
       "      <td>1</td>\n",
       "    </tr>\n",
       "    <tr>\n",
       "      <th>2</th>\n",
       "      <td>90000</td>\n",
       "      <td>0</td>\n",
       "      <td>2</td>\n",
       "      <td>34</td>\n",
       "      <td>0</td>\n",
       "      <td>0</td>\n",
       "      <td>0</td>\n",
       "      <td>0</td>\n",
       "      <td>0</td>\n",
       "      <td>0</td>\n",
       "      <td>...</td>\n",
       "      <td>1500</td>\n",
       "      <td>1000</td>\n",
       "      <td>1000</td>\n",
       "      <td>1000</td>\n",
       "      <td>5000</td>\n",
       "      <td>1</td>\n",
       "      <td>0</td>\n",
       "      <td>0</td>\n",
       "      <td>0</td>\n",
       "      <td>1</td>\n",
       "    </tr>\n",
       "    <tr>\n",
       "      <th>3</th>\n",
       "      <td>50000</td>\n",
       "      <td>0</td>\n",
       "      <td>1</td>\n",
       "      <td>37</td>\n",
       "      <td>0</td>\n",
       "      <td>0</td>\n",
       "      <td>0</td>\n",
       "      <td>0</td>\n",
       "      <td>0</td>\n",
       "      <td>0</td>\n",
       "      <td>...</td>\n",
       "      <td>2019</td>\n",
       "      <td>1200</td>\n",
       "      <td>1100</td>\n",
       "      <td>1069</td>\n",
       "      <td>1000</td>\n",
       "      <td>1</td>\n",
       "      <td>0</td>\n",
       "      <td>0</td>\n",
       "      <td>0</td>\n",
       "      <td>1</td>\n",
       "    </tr>\n",
       "    <tr>\n",
       "      <th>4</th>\n",
       "      <td>50000</td>\n",
       "      <td>1</td>\n",
       "      <td>1</td>\n",
       "      <td>57</td>\n",
       "      <td>0</td>\n",
       "      <td>0</td>\n",
       "      <td>0</td>\n",
       "      <td>0</td>\n",
       "      <td>0</td>\n",
       "      <td>0</td>\n",
       "      <td>...</td>\n",
       "      <td>36681</td>\n",
       "      <td>10000</td>\n",
       "      <td>9000</td>\n",
       "      <td>689</td>\n",
       "      <td>679</td>\n",
       "      <td>1</td>\n",
       "      <td>0</td>\n",
       "      <td>0</td>\n",
       "      <td>0</td>\n",
       "      <td>1</td>\n",
       "    </tr>\n",
       "  </tbody>\n",
       "</table>\n",
       "<p>5 rows × 27 columns</p>\n",
       "</div>"
      ],
      "text/plain": [
       "   LIMIT_BAL  SEX  MARRIAGE  AGE  PAY_0  PAY_2  PAY_3  PAY_4  PAY_5  PAY_6  \\\n",
       "0      20000    0         1   24      2      2      0      0      0      0   \n",
       "1     120000    0         2   26      0      2      0      0      0      2   \n",
       "2      90000    0         2   34      0      0      0      0      0      0   \n",
       "3      50000    0         1   37      0      0      0      0      0      0   \n",
       "4      50000    1         1   57      0      0      0      0      0      0   \n",
       "\n",
       "   ...  PAY_AMT2  PAY_AMT3  PAY_AMT4  PAY_AMT5  PAY_AMT6  default  \\\n",
       "0  ...       689         0         0         0         0        0   \n",
       "1  ...      1000      1000      1000         0      2000        0   \n",
       "2  ...      1500      1000      1000      1000      5000        1   \n",
       "3  ...      2019      1200      1100      1069      1000        1   \n",
       "4  ...     36681     10000      9000       689       679        1   \n",
       "\n",
       "   EDUCATION_graduate school  EDUCATION_high school  EDUCATION_other  \\\n",
       "0                          0                      0                0   \n",
       "1                          0                      0                0   \n",
       "2                          0                      0                0   \n",
       "3                          0                      0                0   \n",
       "4                          0                      0                0   \n",
       "\n",
       "   EDUCATION_university  \n",
       "0                     1  \n",
       "1                     1  \n",
       "2                     1  \n",
       "3                     1  \n",
       "4                     1  \n",
       "\n",
       "[5 rows x 27 columns]"
      ]
     },
     "execution_count": 2,
     "metadata": {},
     "output_type": "execute_result"
    }
   ],
   "source": [
    "#data\n",
    "rawData = pd.read_csv('modified default of credit card clients.csv', header=0)\n",
    "rawData.head()"
   ]
  },
  {
   "cell_type": "code",
   "execution_count": 3,
   "metadata": {},
   "outputs": [
    {
     "data": {
      "text/plain": [
       "LIMIT_BAL                    int64\n",
       "SEX                          int64\n",
       "MARRIAGE                     int64\n",
       "AGE                          int64\n",
       "PAY_0                        int64\n",
       "PAY_2                        int64\n",
       "PAY_3                        int64\n",
       "PAY_4                        int64\n",
       "PAY_5                        int64\n",
       "PAY_6                        int64\n",
       "BILL_AMT1                    int64\n",
       "BILL_AMT2                    int64\n",
       "BILL_AMT3                    int64\n",
       "BILL_AMT4                    int64\n",
       "BILL_AMT5                    int64\n",
       "BILL_AMT6                    int64\n",
       "PAY_AMT1                     int64\n",
       "PAY_AMT2                     int64\n",
       "PAY_AMT3                     int64\n",
       "PAY_AMT4                     int64\n",
       "PAY_AMT5                     int64\n",
       "PAY_AMT6                     int64\n",
       "default                      int64\n",
       "EDUCATION_graduate school    int64\n",
       "EDUCATION_high school        int64\n",
       "EDUCATION_other              int64\n",
       "EDUCATION_university         int64\n",
       "dtype: object"
      ]
     },
     "execution_count": 3,
     "metadata": {},
     "output_type": "execute_result"
    }
   ],
   "source": [
    "rawData.dtypes"
   ]
  },
  {
   "cell_type": "code",
   "execution_count": 4,
   "metadata": {},
   "outputs": [
    {
     "name": "stdout",
     "output_type": "stream",
     "text": [
      "<class 'pandas.core.frame.DataFrame'>\n",
      "RangeIndex: 29965 entries, 0 to 29964\n",
      "Data columns (total 27 columns):\n",
      "LIMIT_BAL                    29965 non-null int64\n",
      "SEX                          29965 non-null int64\n",
      "MARRIAGE                     29965 non-null int64\n",
      "AGE                          29965 non-null int64\n",
      "PAY_0                        29965 non-null int64\n",
      "PAY_2                        29965 non-null int64\n",
      "PAY_3                        29965 non-null int64\n",
      "PAY_4                        29965 non-null int64\n",
      "PAY_5                        29965 non-null int64\n",
      "PAY_6                        29965 non-null int64\n",
      "BILL_AMT1                    29965 non-null int64\n",
      "BILL_AMT2                    29965 non-null int64\n",
      "BILL_AMT3                    29965 non-null int64\n",
      "BILL_AMT4                    29965 non-null int64\n",
      "BILL_AMT5                    29965 non-null int64\n",
      "BILL_AMT6                    29965 non-null int64\n",
      "PAY_AMT1                     29965 non-null int64\n",
      "PAY_AMT2                     29965 non-null int64\n",
      "PAY_AMT3                     29965 non-null int64\n",
      "PAY_AMT4                     29965 non-null int64\n",
      "PAY_AMT5                     29965 non-null int64\n",
      "PAY_AMT6                     29965 non-null int64\n",
      "default                      29965 non-null int64\n",
      "EDUCATION_graduate school    29965 non-null int64\n",
      "EDUCATION_high school        29965 non-null int64\n",
      "EDUCATION_other              29965 non-null int64\n",
      "EDUCATION_university         29965 non-null int64\n",
      "dtypes: int64(27)\n",
      "memory usage: 6.2 MB\n"
     ]
    }
   ],
   "source": [
    "rawData.info()"
   ]
  },
  {
   "cell_type": "code",
   "execution_count": 5,
   "metadata": {},
   "outputs": [
    {
     "data": {
      "text/plain": [
       "Index(['LIMIT_BAL', 'SEX', 'MARRIAGE', 'AGE', 'PAY_0', 'PAY_2', 'PAY_3',\n",
       "       'PAY_4', 'PAY_5', 'PAY_6', 'BILL_AMT1', 'BILL_AMT2', 'BILL_AMT3',\n",
       "       'BILL_AMT4', 'BILL_AMT5', 'BILL_AMT6', 'PAY_AMT1', 'PAY_AMT2',\n",
       "       'PAY_AMT3', 'PAY_AMT4', 'PAY_AMT5', 'PAY_AMT6', 'default',\n",
       "       'EDUCATION_graduate school', 'EDUCATION_high school', 'EDUCATION_other',\n",
       "       'EDUCATION_university'],\n",
       "      dtype='object')"
      ]
     },
     "execution_count": 5,
     "metadata": {},
     "output_type": "execute_result"
    }
   ],
   "source": [
    "rawData.columns"
   ]
  },
  {
   "cell_type": "code",
   "execution_count": 6,
   "metadata": {},
   "outputs": [
    {
     "name": "stdout",
     "output_type": "stream",
     "text": [
      "Summary of feature sample\n"
     ]
    },
    {
     "data": {
      "text/html": [
       "<div>\n",
       "<style scoped>\n",
       "    .dataframe tbody tr th:only-of-type {\n",
       "        vertical-align: middle;\n",
       "    }\n",
       "\n",
       "    .dataframe tbody tr th {\n",
       "        vertical-align: top;\n",
       "    }\n",
       "\n",
       "    .dataframe thead th {\n",
       "        text-align: right;\n",
       "    }\n",
       "</style>\n",
       "<table border=\"1\" class=\"dataframe\">\n",
       "  <thead>\n",
       "    <tr style=\"text-align: right;\">\n",
       "      <th></th>\n",
       "      <th>SEX</th>\n",
       "      <th>MARRIAGE</th>\n",
       "      <th>AGE</th>\n",
       "      <th>PAY_0</th>\n",
       "      <th>PAY_2</th>\n",
       "      <th>PAY_3</th>\n",
       "      <th>PAY_4</th>\n",
       "      <th>PAY_5</th>\n",
       "      <th>PAY_6</th>\n",
       "      <th>BILL_AMT1</th>\n",
       "      <th>...</th>\n",
       "      <th>PAY_AMT2</th>\n",
       "      <th>PAY_AMT3</th>\n",
       "      <th>PAY_AMT4</th>\n",
       "      <th>PAY_AMT5</th>\n",
       "      <th>PAY_AMT6</th>\n",
       "      <th>default</th>\n",
       "      <th>EDUCATION_graduate school</th>\n",
       "      <th>EDUCATION_high school</th>\n",
       "      <th>EDUCATION_other</th>\n",
       "      <th>EDUCATION_university</th>\n",
       "    </tr>\n",
       "  </thead>\n",
       "  <tbody>\n",
       "    <tr>\n",
       "      <th>0</th>\n",
       "      <td>0</td>\n",
       "      <td>1</td>\n",
       "      <td>24</td>\n",
       "      <td>2</td>\n",
       "      <td>2</td>\n",
       "      <td>0</td>\n",
       "      <td>0</td>\n",
       "      <td>0</td>\n",
       "      <td>0</td>\n",
       "      <td>3913</td>\n",
       "      <td>...</td>\n",
       "      <td>689</td>\n",
       "      <td>0</td>\n",
       "      <td>0</td>\n",
       "      <td>0</td>\n",
       "      <td>0</td>\n",
       "      <td>0</td>\n",
       "      <td>0</td>\n",
       "      <td>0</td>\n",
       "      <td>0</td>\n",
       "      <td>1</td>\n",
       "    </tr>\n",
       "    <tr>\n",
       "      <th>1</th>\n",
       "      <td>0</td>\n",
       "      <td>2</td>\n",
       "      <td>26</td>\n",
       "      <td>0</td>\n",
       "      <td>2</td>\n",
       "      <td>0</td>\n",
       "      <td>0</td>\n",
       "      <td>0</td>\n",
       "      <td>2</td>\n",
       "      <td>2682</td>\n",
       "      <td>...</td>\n",
       "      <td>1000</td>\n",
       "      <td>1000</td>\n",
       "      <td>1000</td>\n",
       "      <td>0</td>\n",
       "      <td>2000</td>\n",
       "      <td>0</td>\n",
       "      <td>0</td>\n",
       "      <td>0</td>\n",
       "      <td>0</td>\n",
       "      <td>1</td>\n",
       "    </tr>\n",
       "    <tr>\n",
       "      <th>2</th>\n",
       "      <td>0</td>\n",
       "      <td>2</td>\n",
       "      <td>34</td>\n",
       "      <td>0</td>\n",
       "      <td>0</td>\n",
       "      <td>0</td>\n",
       "      <td>0</td>\n",
       "      <td>0</td>\n",
       "      <td>0</td>\n",
       "      <td>29239</td>\n",
       "      <td>...</td>\n",
       "      <td>1500</td>\n",
       "      <td>1000</td>\n",
       "      <td>1000</td>\n",
       "      <td>1000</td>\n",
       "      <td>5000</td>\n",
       "      <td>1</td>\n",
       "      <td>0</td>\n",
       "      <td>0</td>\n",
       "      <td>0</td>\n",
       "      <td>1</td>\n",
       "    </tr>\n",
       "    <tr>\n",
       "      <th>3</th>\n",
       "      <td>0</td>\n",
       "      <td>1</td>\n",
       "      <td>37</td>\n",
       "      <td>0</td>\n",
       "      <td>0</td>\n",
       "      <td>0</td>\n",
       "      <td>0</td>\n",
       "      <td>0</td>\n",
       "      <td>0</td>\n",
       "      <td>46990</td>\n",
       "      <td>...</td>\n",
       "      <td>2019</td>\n",
       "      <td>1200</td>\n",
       "      <td>1100</td>\n",
       "      <td>1069</td>\n",
       "      <td>1000</td>\n",
       "      <td>1</td>\n",
       "      <td>0</td>\n",
       "      <td>0</td>\n",
       "      <td>0</td>\n",
       "      <td>1</td>\n",
       "    </tr>\n",
       "    <tr>\n",
       "      <th>4</th>\n",
       "      <td>1</td>\n",
       "      <td>1</td>\n",
       "      <td>57</td>\n",
       "      <td>0</td>\n",
       "      <td>0</td>\n",
       "      <td>0</td>\n",
       "      <td>0</td>\n",
       "      <td>0</td>\n",
       "      <td>0</td>\n",
       "      <td>8617</td>\n",
       "      <td>...</td>\n",
       "      <td>36681</td>\n",
       "      <td>10000</td>\n",
       "      <td>9000</td>\n",
       "      <td>689</td>\n",
       "      <td>679</td>\n",
       "      <td>1</td>\n",
       "      <td>0</td>\n",
       "      <td>0</td>\n",
       "      <td>0</td>\n",
       "      <td>1</td>\n",
       "    </tr>\n",
       "  </tbody>\n",
       "</table>\n",
       "<p>5 rows × 26 columns</p>\n",
       "</div>"
      ],
      "text/plain": [
       "   SEX  MARRIAGE  AGE  PAY_0  PAY_2  PAY_3  PAY_4  PAY_5  PAY_6  BILL_AMT1  \\\n",
       "0    0         1   24      2      2      0      0      0      0       3913   \n",
       "1    0         2   26      0      2      0      0      0      2       2682   \n",
       "2    0         2   34      0      0      0      0      0      0      29239   \n",
       "3    0         1   37      0      0      0      0      0      0      46990   \n",
       "4    1         1   57      0      0      0      0      0      0       8617   \n",
       "\n",
       "   ...  PAY_AMT2  PAY_AMT3  PAY_AMT4  PAY_AMT5  PAY_AMT6  default  \\\n",
       "0  ...       689         0         0         0         0        0   \n",
       "1  ...      1000      1000      1000         0      2000        0   \n",
       "2  ...      1500      1000      1000      1000      5000        1   \n",
       "3  ...      2019      1200      1100      1069      1000        1   \n",
       "4  ...     36681     10000      9000       689       679        1   \n",
       "\n",
       "   EDUCATION_graduate school  EDUCATION_high school  EDUCATION_other  \\\n",
       "0                          0                      0                0   \n",
       "1                          0                      0                0   \n",
       "2                          0                      0                0   \n",
       "3                          0                      0                0   \n",
       "4                          0                      0                0   \n",
       "\n",
       "   EDUCATION_university  \n",
       "0                     1  \n",
       "1                     1  \n",
       "2                     1  \n",
       "3                     1  \n",
       "4                     1  \n",
       "\n",
       "[5 rows x 26 columns]"
      ]
     },
     "execution_count": 6,
     "metadata": {},
     "output_type": "execute_result"
    }
   ],
   "source": [
    "#features\n",
    "X = rawData.iloc[:,1:27]\n",
    "print('Summary of feature sample')\n",
    "X.head()"
   ]
  },
  {
   "cell_type": "code",
   "execution_count": 7,
   "metadata": {},
   "outputs": [
    {
     "name": "stdout",
     "output_type": "stream",
     "text": [
      "<class 'pandas.core.frame.DataFrame'>\n",
      "RangeIndex: 29965 entries, 0 to 29964\n",
      "Data columns (total 26 columns):\n",
      "SEX                          29965 non-null int64\n",
      "MARRIAGE                     29965 non-null int64\n",
      "AGE                          29965 non-null int64\n",
      "PAY_0                        29965 non-null int64\n",
      "PAY_2                        29965 non-null int64\n",
      "PAY_3                        29965 non-null int64\n",
      "PAY_4                        29965 non-null int64\n",
      "PAY_5                        29965 non-null int64\n",
      "PAY_6                        29965 non-null int64\n",
      "BILL_AMT1                    29965 non-null int64\n",
      "BILL_AMT2                    29965 non-null int64\n",
      "BILL_AMT3                    29965 non-null int64\n",
      "BILL_AMT4                    29965 non-null int64\n",
      "BILL_AMT5                    29965 non-null int64\n",
      "BILL_AMT6                    29965 non-null int64\n",
      "PAY_AMT1                     29965 non-null int64\n",
      "PAY_AMT2                     29965 non-null int64\n",
      "PAY_AMT3                     29965 non-null int64\n",
      "PAY_AMT4                     29965 non-null int64\n",
      "PAY_AMT5                     29965 non-null int64\n",
      "PAY_AMT6                     29965 non-null int64\n",
      "default                      29965 non-null int64\n",
      "EDUCATION_graduate school    29965 non-null int64\n",
      "EDUCATION_high school        29965 non-null int64\n",
      "EDUCATION_other              29965 non-null int64\n",
      "EDUCATION_university         29965 non-null int64\n",
      "dtypes: int64(26)\n",
      "memory usage: 5.9 MB\n"
     ]
    }
   ],
   "source": [
    "X.info()"
   ]
  },
  {
   "cell_type": "code",
   "execution_count": 8,
   "metadata": {},
   "outputs": [],
   "source": [
    "#dependent variable\n",
    "y = rawData['LIMIT_BAL']"
   ]
  },
  {
   "cell_type": "code",
   "execution_count": 9,
   "metadata": {},
   "outputs": [
    {
     "data": {
      "text/plain": [
       "0      20000\n",
       "1     120000\n",
       "2      90000\n",
       "3      50000\n",
       "4      50000\n",
       "5      50000\n",
       "6     500000\n",
       "7     100000\n",
       "8     140000\n",
       "9      20000\n",
       "10    200000\n",
       "11    260000\n",
       "12    630000\n",
       "13     70000\n",
       "14    250000\n",
       "Name: LIMIT_BAL, dtype: int64"
      ]
     },
     "execution_count": 9,
     "metadata": {},
     "output_type": "execute_result"
    }
   ],
   "source": [
    "y.head(15)"
   ]
  },
  {
   "cell_type": "code",
   "execution_count": 10,
   "metadata": {},
   "outputs": [
    {
     "name": "stdout",
     "output_type": "stream",
     "text": [
      "[('Random Forest Regressor', RandomForestRegressor(bootstrap=True, ccp_alpha=0.0, criterion='mse',\n",
      "                      max_depth=None, max_features='auto', max_leaf_nodes=None,\n",
      "                      max_samples=None, min_impurity_decrease=0.0,\n",
      "                      min_impurity_split=None, min_samples_leaf=1,\n",
      "                      min_samples_split=2, min_weight_fraction_leaf=0.0,\n",
      "                      n_estimators=100, n_jobs=None, oob_score=False,\n",
      "                      random_state=None, verbose=0, warm_start=False)), ('Linear Regression', LinearRegression(copy_X=True, fit_intercept=True, n_jobs=None, normalize=False)), ('Support Vector Regression', SVR(C=1.0, cache_size=200, coef0=0.0, degree=3, epsilon=0.1, gamma='scale',\n",
      "    kernel='rbf', max_iter=-1, shrinking=True, tol=0.001, verbose=False))]\n"
     ]
    }
   ],
   "source": [
    "algosClass = []\n",
    "algosClass.append(('Random Forest Regressor',RandomForestRegressor()))\n",
    "algosClass.append(('Linear Regression',LinearRegression()))\n",
    "algosClass.append(('Support Vector Regression',SVR())) #tried parameters,SVR(C=10000000, cache_size=2000))) default c is 1 cache is 200\n",
    "print(algosClass)"
   ]
  },
  {
   "cell_type": "code",
   "execution_count": 11,
   "metadata": {},
   "outputs": [],
   "source": [
    "#regression\n",
    "results = []\n",
    "names = []\n",
    "for name, model in algosClass:\n",
    "    result = cross_val_score(model, X,y, cv=3, scoring='r2')\n",
    "    names.append(name)\n",
    "    results.append(result)"
   ]
  },
  {
   "cell_type": "code",
   "execution_count": 12,
   "metadata": {},
   "outputs": [
    {
     "name": "stdout",
     "output_type": "stream",
     "text": [
      "Cross_Val_Score for Random Forest Regressor 0.4664912254920052\n",
      "Cross_Val_Score for Linear Regression 0.28642265796442296\n",
      "Cross_Val_Score for Support Vector Regression -0.05032325438770191\n"
     ]
    }
   ],
   "source": [
    "for i in range(len(names)):\n",
    "    print('Cross_Val_Score for', names[i], results[i].mean())"
   ]
  },
  {
   "cell_type": "code",
   "execution_count": 21,
   "metadata": {},
   "outputs": [],
   "source": [
    "#Train/Test Split \n",
    "X_train, X_test, y_train, y_test = train_test_split(X, y, test_size = .3, random_state = 123) "
   ]
  },
  {
   "cell_type": "code",
   "execution_count": 22,
   "metadata": {},
   "outputs": [],
   "source": [
    "algo = RandomForestRegressor()    #tried using randomly n_estimators=200"
   ]
  },
  {
   "cell_type": "code",
   "execution_count": 23,
   "metadata": {},
   "outputs": [],
   "source": [
    "model = algo.fit(X_train,y_train)"
   ]
  },
  {
   "cell_type": "code",
   "execution_count": 24,
   "metadata": {},
   "outputs": [],
   "source": [
    "predictions = model.predict(X_test)"
   ]
  },
  {
   "cell_type": "code",
   "execution_count": 25,
   "metadata": {},
   "outputs": [],
   "source": [
    "rmse = sqrt(mean_squared_error(y_test, predictions))"
   ]
  },
  {
   "cell_type": "code",
   "execution_count": 26,
   "metadata": {},
   "outputs": [],
   "source": [
    "predRsquared = r2_score(y_test,predictions)"
   ]
  },
  {
   "cell_type": "code",
   "execution_count": 27,
   "metadata": {},
   "outputs": [
    {
     "name": "stdout",
     "output_type": "stream",
     "text": [
      "R Squared Score for Random Forest: 0.470\n",
      "RMSE Score for Random Fores: 94322.515\n"
     ]
    }
   ],
   "source": [
    "#Make Predictions\n",
    "predictions = model.predict(X_test)\n",
    "predRsquared = r2_score(y_test,predictions)\n",
    "rmse = sqrt(mean_squared_error(y_test, predictions))\n",
    "print('R Squared Score for Random Forest: %.3f' % predRsquared)\n",
    "print('RMSE Score for Random Fores: %.3f' % rmse)"
   ]
  },
  {
   "cell_type": "code",
   "execution_count": 28,
   "metadata": {},
   "outputs": [
    {
     "data": {
      "image/png": "[encoded data removed]",
      "text/plain": [
       "<Figure size 432x288 with 1 Axes>"
      ]
     },
     "metadata": {
      "needs_background": "light"
     },
     "output_type": "display_data"
    }
   ],
   "source": [
    "plt.scatter(y_test, predictions, color=['blue'], alpha = 0.5)\n",
    "plt.plot(y_test, y_test, color='red', linewidth=2)\n",
    "plt.xlabel('Ground Truth')\n",
    "plt.ylabel('Predictions')\n",
    "plt.show();"
   ]
  },
  {
   "cell_type": "markdown",
   "metadata": {},
   "source": [
    "Above was done using only default parameters"
   ]
  },
  {
   "cell_type": "code",
   "execution_count": 29,
   "metadata": {},
   "outputs": [],
   "source": [
    "algo = SVR()"
   ]
  },
  {
   "cell_type": "code",
   "execution_count": 30,
   "metadata": {},
   "outputs": [],
   "source": [
    "model = algo.fit(X_train,y_train)"
   ]
  },
  {
   "cell_type": "code",
   "execution_count": 31,
   "metadata": {},
   "outputs": [],
   "source": [
    "predictions = model.predict(X_test)"
   ]
  },
  {
   "cell_type": "code",
   "execution_count": 32,
   "metadata": {},
   "outputs": [],
   "source": [
    "rmse = sqrt(mean_squared_error(y_test, predictions))"
   ]
  },
  {
   "cell_type": "code",
   "execution_count": 33,
   "metadata": {},
   "outputs": [],
   "source": [
    "predRsquared = r2_score(y_test,predictions)"
   ]
  },
  {
   "cell_type": "code",
   "execution_count": 34,
   "metadata": {},
   "outputs": [
    {
     "name": "stdout",
     "output_type": "stream",
     "text": [
      "R Squared Score for SVR: -0.038\n",
      "RMSE Score for SVR: 131963.727\n"
     ]
    }
   ],
   "source": [
    "#Make Predictions\n",
    "predictions = model.predict(X_test)\n",
    "predRsquared = r2_score(y_test,predictions)\n",
    "rmse = sqrt(mean_squared_error(y_test, predictions))\n",
    "print('R Squared Score for SVR: %.3f' % predRsquared)\n",
    "print('RMSE Score for SVR: %.3f' % rmse)"
   ]
  },
  {
   "cell_type": "code",
   "execution_count": 35,
   "metadata": {},
   "outputs": [
    {
     "data": {
      "image/png": "[encoded data removed]",
      "text/plain": [
       "<Figure size 432x288 with 1 Axes>"
      ]
     },
     "metadata": {
      "needs_background": "light"
     },
     "output_type": "display_data"
    }
   ],
   "source": [
    "plt.scatter(y_test, predictions, color=['blue'], alpha = 0.5)\n",
    "plt.plot(y_test, y_test, color='red', linewidth=2)\n",
    "plt.xlabel('Ground Truth')\n",
    "plt.ylabel('Predictions')\n",
    "plt.show();"
   ]
  },
  {
   "cell_type": "markdown",
   "metadata": {},
   "source": [
    "Above was done using only default parameters"
   ]
  },
  {
   "cell_type": "markdown",
   "metadata": {},
   "source": [
    "https://scikit-learn.org/stable/modules/generated/sklearn.model_selection.RandomizedSearchCV.html\n",
    "https://scikit-learn.org/stable/modules/generated/sklearn.model_selection.GridSearchCV.html\n",
    "\n",
    "https://scikit-learn.org/stable/auto_examples/model_selection/plot_randomized_search.html#sphx-glr-auto-examples-model-selection-plot-randomized-search-py"
   ]
  },
  {
   "cell_type": "code",
   "execution_count": 36,
   "metadata": {},
   "outputs": [
    {
     "data": {
      "text/plain": [
       "GridSearchCV(cv=5, error_score=nan,\n",
       "             estimator=SVR(C=1.0, cache_size=200, coef0=0.0, degree=3,\n",
       "                           epsilon=0.1, gamma='scale', kernel='rbf',\n",
       "                           max_iter=-1, shrinking=True, tol=0.001,\n",
       "                           verbose=False),\n",
       "             iid='deprecated', n_jobs=-1,\n",
       "             param_grid=[{'C': [10, 100, 1000, 10000, 1000000],\n",
       "                          'kernel': ['rbf']}],\n",
       "             pre_dispatch='2*n_jobs', refit=True, return_train_score=False,\n",
       "             scoring='r2', verbose=0)"
      ]
     },
     "execution_count": 36,
     "metadata": {},
     "output_type": "execute_result"
    }
   ],
   "source": [
    "#attempt at parameter tuning for SVR\n",
    "#https://scikit-learn.org/stable/modules/grid_search.html#grid-search\n",
    "\n",
    "#defining parameters\n",
    "parameters = [{'C': [10, 100, 1000, 10000, 1000000], 'kernel': ['rbf']}]\n",
    "\n",
    "grid_search = GridSearchCV(SVR(), param_grid = parameters, refit=True, verbose = 0,n_jobs = -1, cv = 5, scoring = 'r2')\n",
    "\n",
    "#fitting for the grid search\n",
    "grid_search.fit(X_train, y_train)"
   ]
  },
  {
   "cell_type": "code",
   "execution_count": 37,
   "metadata": {},
   "outputs": [
    {
     "name": "stdout",
     "output_type": "stream",
     "text": [
      "0.3383056430352123\n",
      "{'C': 1000000, 'kernel': 'rbf'}\n",
      "SVR(C=1000000, cache_size=200, coef0=0.0, degree=3, epsilon=0.1, gamma='scale',\n",
      "    kernel='rbf', max_iter=-1, shrinking=True, tol=0.001, verbose=False)\n"
     ]
    }
   ],
   "source": [
    "print(grid_search.best_score_)\n",
    "print(grid_search.best_params_)\n",
    "print(grid_search.best_estimator_)"
   ]
  },
  {
   "cell_type": "code",
   "execution_count": 41,
   "metadata": {},
   "outputs": [
    {
     "name": "stdout",
     "output_type": "stream",
     "text": [
      "{'n_estimators': [100, 200, 300, 400, 500], 'max_features': ['auto', 'sqrt'], 'max_depth': [10, 20, 30, 40, 50, 60, 70, 80, 90, 100, None], 'min_samples_split': [2, 5, 10, 20], 'min_samples_leaf': [1, 2, 5, 10], 'bootstrap': [True, False]}\n"
     ]
    }
   ],
   "source": [
    "#attempt at parameter tuning for Random Forest Regressor\n",
    "#https://scikit-learn.org/stable/modules/generated/sklearn.model_selection.RandomizedSearchCV.html\n",
    "#defining parameters\n",
    "n_estimators = [100, 200, 300, 400, 500]\n",
    "max_features = ['auto','sqrt']\n",
    "max_depth = [10, 20, 30, 40, 50, 60, 70, 80, 90, 100]\n",
    "max_depth.append(None)\n",
    "min_samples_split = [2,5,10,20]\n",
    "min_samples_leaf = [1, 2, 5, 10]\n",
    "bootstrap = [True, False]\n",
    "random_grid = {'n_estimators': n_estimators, 'max_features': max_features,\n",
    "               'max_depth': max_depth, 'min_samples_split': min_samples_split,\n",
    "               'min_samples_leaf': min_samples_leaf, 'bootstrap': bootstrap}\n",
    "\n",
    "print(random_grid)"
   ]
  },
  {
   "cell_type": "code",
   "execution_count": null,
   "metadata": {},
   "outputs": [],
   "source": [
    "#Using Random Grid to Search for Best Hyperparameters\n",
    "#Create Base Model\n",
    "RF_wParams = RandomForestRegressor()\n",
    "rf_random = RandomizedSearchCV(estimator=RF_wParams, param_distributions = random_grid, n_iter=60, cv=5, n_jobs=-1)\n",
    "\n",
    "#Fit Random Search Model\n",
    "rf_random.fit(X_train,y_train)"
   ]
  },
  {
   "cell_type": "code",
   "execution_count": null,
   "metadata": {},
   "outputs": [],
   "source": [
    "rf_random.best_params_"
   ]
  },
  {
   "cell_type": "code",
   "execution_count": null,
   "metadata": {},
   "outputs": [],
   "source": []
  },
  {
   "cell_type": "code",
   "execution_count": null,
   "metadata": {},
   "outputs": [],
   "source": []
  },
  {
   "cell_type": "code",
   "execution_count": null,
   "metadata": {},
   "outputs": [],
   "source": []
  },
  {
   "cell_type": "code",
   "execution_count": null,
   "metadata": {},
   "outputs": [],
   "source": []
  },
  {
   "cell_type": "markdown",
   "metadata": {},
   "source": [
    "MODEL TRAINING PREDICTIONS WITH TUNING RESULTS"
   ]
  },
  {
   "cell_type": "code",
   "execution_count": 149,
   "metadata": {},
   "outputs": [
    {
     "name": "stdout",
     "output_type": "stream",
     "text": [
      "[('Support Vector Regression', SVR(C=10000, cache_size=200, coef0=0.0, degree=3, epsilon=0.1, gamma='scale',\n",
      "    kernel='rbf', max_iter=-1, shrinking=True, tol=0.001, verbose=False))]\n"
     ]
    }
   ],
   "source": [
    "algosTunClass = []\n",
    "algosTunClass.append(('Random Forest Regressor',RandomForestRegressor()))\n",
    "#algosTunClass.append(('Linear Regression',LinearRegression()))\n",
    "algosTunClass.append(('Support Vector Regression',SVR(C=1000000, cache_size=200, coef0=0.0, degree=3, epsilon=0.1, gamma='scale',\n",
    "    kernel='rbf', max_iter=-1, shrinking=True, tol=0.001, verbose=False))\n",
    "print(algosTunClass)"
   ]
  },
  {
   "cell_type": "code",
   "execution_count": 150,
   "metadata": {},
   "outputs": [],
   "source": [
    "#regression\n",
    "results = []\n",
    "names = []\n",
    "for name, model in algosTunClass:\n",
    "    result = cross_val_score(model, X,y, cv=3, scoring='r2')\n",
    "    names.append(name)\n",
    "    results.append(result)"
   ]
  },
  {
   "cell_type": "code",
   "execution_count": 151,
   "metadata": {},
   "outputs": [
    {
     "name": "stdout",
     "output_type": "stream",
     "text": [
      "Cross_Val_Score for Support Vector Regression 0.30629177217942705\n"
     ]
    }
   ],
   "source": [
    "for i in range(len(names)):\n",
    "    print('Cross_Val_Score for', names[i], results[i].mean())"
   ]
  },
  {
   "cell_type": "code",
   "execution_count": 173,
   "metadata": {},
   "outputs": [],
   "source": [
    "#Train/Test Split \n",
    "X_train, X_test, y_train, y_test = train_test_split(X, y, test_size = .3, random_state = 123) "
   ]
  },
  {
   "cell_type": "code",
   "execution_count": 174,
   "metadata": {},
   "outputs": [],
   "source": [
    "tunedSVR_algo = SVR(C=10000, cache_size=200, coef0=0.0, degree=3, epsilon=0.1, gamma='scale',\n",
    "    kernel='rbf', max_iter=-1, shrinking=True, tol=0.001, verbose=False)"
   ]
  },
  {
   "cell_type": "code",
   "execution_count": 175,
   "metadata": {},
   "outputs": [],
   "source": [
    "tunedSVR_model = tunedSVR_model.fit(X_train,y_train)"
   ]
  },
  {
   "cell_type": "code",
   "execution_count": 176,
   "metadata": {},
   "outputs": [],
   "source": [
    "tunedSVR_predictions = tunedSVR_model.predict(X_test)"
   ]
  },
  {
   "cell_type": "code",
   "execution_count": 177,
   "metadata": {},
   "outputs": [],
   "source": [
    "tunedSVR_rmse = sqrt(mean_squared_error(y_test, tunedSVR_predictions))"
   ]
  },
  {
   "cell_type": "code",
   "execution_count": 178,
   "metadata": {},
   "outputs": [
    {
     "name": "stdout",
     "output_type": "stream",
     "text": [
      "R Squared Score for SVR: 0.307\n",
      "RMSE Score for SVR: 107790.315\n"
     ]
    }
   ],
   "source": [
    "#Make Predictions\n",
    "tunedSVR_predictions = tunedSVR_model.predict(X_test)\n",
    "tunedSVR_predRsquared = r2_score(y_test,tunedSVR_predictions)\n",
    "tunedSVR_rmse = sqrt(mean_squared_error(y_test, tunedSVR_predictions))\n",
    "print('R Squared Score for SVR: %.3f' % tunedSVR_predRsquared)\n",
    "print('RMSE Score for SVR: %.3f' % rmse)"
   ]
  },
  {
   "cell_type": "code",
   "execution_count": null,
   "metadata": {},
   "outputs": [],
   "source": []
  },
  {
   "cell_type": "code",
   "execution_count": null,
   "metadata": {},
   "outputs": [],
   "source": []
  },
  {
   "cell_type": "code",
   "execution_count": null,
   "metadata": {},
   "outputs": [],
   "source": []
  },
  {
   "cell_type": "code",
   "execution_count": null,
   "metadata": {},
   "outputs": [],
   "source": [
    "#classification attempt\n",
    "from sklearn.metrics import accuracy_score, classification_report\n",
    "from sklearn.ensemble import RandomForestClassifier, GradientBoostingClassifier\n",
    "from sklearn.svm import SVR"
   ]
  }
 ],
 "metadata": {
  "kernelspec": {
   "display_name": "Python 3",
   "language": "python",
   "name": "python3"
  },
  "language_info": {
   "codemirror_mode": {
    "name": "ipython",
    "version": 3
   },
   "file_extension": ".py",
   "mimetype": "text/x-python",
   "name": "python",
   "nbconvert_exporter": "python",
   "pygments_lexer": "ipython3",
   "version": "3.8.1"
  }
 },
 "nbformat": 4,
 "nbformat_minor": 4
}
